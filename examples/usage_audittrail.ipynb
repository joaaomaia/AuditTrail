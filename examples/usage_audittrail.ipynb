{
 "cells": [
  {
   "cell_type": "code",
   "execution_count": 1,
   "id": "974d1db4",
   "metadata": {},
   "outputs": [],
   "source": [
    "from utils import AuditTrail\n",
    "import pandas as pd\n",
    "import numpy as np"
   ]
  },
  {
   "cell_type": "code",
   "execution_count": 2,
   "id": "a73afa0a",
   "metadata": {},
   "outputs": [],
   "source": [
    "def gerar_dataframes_teste(\n",
    "    n_samples: int = 1000,\n",
    "    n_num_features: int = 3,\n",
    "    n_cat_low: int = 1,\n",
    "    n_cat_high: int = 1,\n",
    "    seed: int = 42\n",
    ") -> dict:\n",
    "    np.random.seed(seed)\n",
    "\n",
    "    # ID e target\n",
    "    base = {\n",
    "        'client_id': np.arange(n_samples),\n",
    "        'target': np.random.randint(0, 2, n_samples),\n",
    "        'bool_flag': np.random.choice([True, False], size=n_samples),\n",
    "        'missing_95pct': np.where(np.random.rand(n_samples) < 0.95, np.nan, 'ok')\n",
    "    }\n",
    "\n",
    "    # Variáveis numéricas\n",
    "    num_data = {\n",
    "        f'num_feat_{i}': np.random.normal(loc=0, scale=1 + i, size=n_samples)\n",
    "        for i in range(n_num_features)\n",
    "    }\n",
    "\n",
    "    # Variáveis categóricas de baixa cardinalidade\n",
    "    cat_low_data = {\n",
    "        f'cat_low_{i}': np.random.choice(['A', 'B', 'C'], size=n_samples)\n",
    "        for i in range(n_cat_low)\n",
    "    }\n",
    "\n",
    "    # Variáveis categóricas de alta cardinalidade\n",
    "    cat_high_data = {\n",
    "        f'cat_high_{i}': np.random.choice([f\"Grupo_{j}\" for j in range(100)], size=n_samples)\n",
    "        for i in range(n_cat_high)\n",
    "    }\n",
    "\n",
    "    # Concatena tudo com axis=1\n",
    "    df = pd.concat(\n",
    "        [pd.DataFrame(d) for d in [base, num_data, cat_low_data, cat_high_data]],\n",
    "        axis=1\n",
    "    )\n",
    "\n",
    "    # Derivações\n",
    "    df_merge_errado = df.drop(columns='missing_95pct').iloc[:-int(0.05 * n_samples)].copy()\n",
    "\n",
    "    # df_tipo = df.copy()\n",
    "    # if n_num_features > 0:\n",
    "    #     df_tipo['num_feat_0'] = df_tipo['num_feat_0'].astype(str)\n",
    "\n",
    "    # df_dist = df.copy()\n",
    "    # if n_num_features > 0:\n",
    "    #     df_dist['num_feat_0'] += np.random.normal(0, 3, size=n_samples)\n",
    "    # if n_cat_low > 0:\n",
    "    #     df_dist['cat_low_0'] = df_dist['cat_low_0'].replace({'A': 'B'})\n",
    "\n",
    "    # df_duplicado = pd.concat([df, df.iloc[:10]], ignore_index=True)\n",
    "\n",
    "    # df_all_missing = df.copy()\n",
    "    # df_all_missing['all_missing'] = np.nan\n",
    "\n",
    "    return {\n",
    "        \"original\": df,\n",
    "        \"merge_errado\": df_merge_errado,\n",
    "        #\"mudou_tipo\": df_tipo,\n",
    "        #\"mudou_distribuicao\": df_dist,\n",
    "        #\"duplicado\": df_duplicado,\n",
    "        #\"all_missing\": df_all_missing\n",
    "    }\n"
   ]
  },
  {
   "cell_type": "code",
   "execution_count": 3,
   "id": "3fef08e7",
   "metadata": {},
   "outputs": [],
   "source": [
    "dfs = gerar_dataframes_teste(\n",
    "    n_samples=2_000_000,\n",
    "    n_num_features=200,\n",
    "    n_cat_low=2,\n",
    "    n_cat_high=2,\n",
    "    seed=123\n",
    ")\n",
    "\n",
    "df1 = dfs['original']\n",
    "df2 = dfs['merge_errado']\n",
    "# df3 = dfs['mudou_tipo']\n",
    "# df4 = dfs['mudou_distribuicao']\n",
    "# df5 = dfs['duplicado']\n",
    "# df6 = dfs['all_missing']"
   ]
  },
  {
   "cell_type": "code",
   "execution_count": 4,
   "id": "a61bf6b1",
   "metadata": {},
   "outputs": [],
   "source": [
    "audit = AuditTrail(\n",
    "    track_histograms=True,\n",
    "    track_distributions=True,\n",
    "    enable_logging=True,\n",
    "    auto_detect_types=True,\n",
    "    target_col='target',\n",
    "    default_keys=[\"client_id\"]\n",
    ")"
   ]
  },
  {
   "cell_type": "code",
   "execution_count": 5,
   "id": "4f1cf5bb",
   "metadata": {},
   "outputs": [],
   "source": [
    "# df1 = pd.read_csv('Dataset_Original.csv')\n",
    "# df2 = pd.read_csv('Dataset_P_s-Merge__Simulado_.csv')"
   ]
  },
  {
   "cell_type": "code",
   "execution_count": null,
   "id": "7e5ba7fa",
   "metadata": {},
   "outputs": [],
   "source": [
    "audit.take_snapshot(df1, name=\"original\")"
   ]
  },
  {
   "cell_type": "code",
   "execution_count": null,
   "id": "00152993",
   "metadata": {},
   "outputs": [],
   "source": [
    "audit.describe_snapshot(\"original\")"
   ]
  },
  {
   "cell_type": "code",
   "execution_count": null,
   "id": "82219b99",
   "metadata": {},
   "outputs": [],
   "source": [
    "audit.take_snapshot(df2, name=\"merge_errado\")"
   ]
  },
  {
   "cell_type": "code",
   "execution_count": null,
   "id": "44c00081",
   "metadata": {},
   "outputs": [],
   "source": [
    "audit.compare_snapshots(\"original\", \"merge_errado\")"
   ]
  }
 ],
 "metadata": {
  "kernelspec": {
   "display_name": "ENV_STONE",
   "language": "python",
   "name": "python3"
  },
  "language_info": {
   "codemirror_mode": {
    "name": "ipython",
    "version": 3
   },
   "file_extension": ".py",
   "mimetype": "text/x-python",
   "name": "python",
   "nbconvert_exporter": "python",
   "pygments_lexer": "ipython3",
   "version": "3.10.16"
  }
 },
 "nbformat": 4,
 "nbformat_minor": 5
}
